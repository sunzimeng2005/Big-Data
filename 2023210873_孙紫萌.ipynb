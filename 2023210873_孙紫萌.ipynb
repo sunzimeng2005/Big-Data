{
 "cells": [
  {
   "cell_type": "code",
   "execution_count": null,
   "metadata": {
    "scrolled": true
   },
   "outputs": [],
   "source": [
    "#练习2-1（共计11个代码）\n",
    "import re\n",
    "ret = re.findall('m...e',\"cat and mouse\" + \"cat or mouse\")\n",
    "print(ret,type(ret))"
   ]
  },
  {
   "cell_type": "code",
   "execution_count": null,
   "metadata": {},
   "outputs": [],
   "source": [
    "#练习2-2\n",
    "ret = re.findall('ca*t',\"caaaaat and mouse\"+\"cat or mouse\")\n",
    "print(ret,type(ret))"
   ]
  },
  {
   "cell_type": "code",
   "execution_count": null,
   "metadata": {},
   "outputs": [],
   "source": [
    "#练习2-3\n",
    "ret1 = re.findall('ca?t',\"cat and mouse\"+\"ct or mouse\")\n",
    "ret2 = re.findall('ca?t',\"caaaaat and mouse\"+\"caat or mouse\")\n",
    "print(ret1,ret2)"
   ]
  },
  {
   "cell_type": "code",
   "execution_count": null,
   "metadata": {},
   "outputs": [],
   "source": [
    "#练习2-4\n",
    "import re\n",
    "ret1 = re.findall('ca+t',\"cat and mouse\"+\"ct or mouse\")\n",
    "ret2 = re.findall('ca+t',\"caaaaat and mouse\"+\"caat or mouse\")\n",
    "print(ret1,ret2)"
   ]
  },
  {
   "cell_type": "code",
   "execution_count": null,
   "metadata": {},
   "outputs": [],
   "source": [
    "#练习2-5\n",
    "ret1 = re.findall('ca{5}t',\"caaaaat and mouse\"+\"cat or mouse\")\n",
    "ret2 = re.findall('ca{1,5}t',\"caaaat catd mouse\")\n",
    "ret3 = re.findall('ca{1,5}t',\"caaaaaaat caaat ct\")\n",
    "print(ret1,ret2,ret3)"
   ]
  },
  {
   "cell_type": "code",
   "execution_count": null,
   "metadata": {},
   "outputs": [],
   "source": [
    "#练习2-6\n",
    "ret = re.findall('^m...e',\"mouse and cat\")\n",
    "print(ret)"
   ]
  },
  {
   "cell_type": "code",
   "execution_count": null,
   "metadata": {},
   "outputs": [],
   "source": [
    "#练习2-7\n",
    "ret1 = re.findall('^a.d$',\"and\")\n",
    "ret2 = re.findall('m...e$',\"caaaaat and mouse\")\n",
    "print(ret1,ret2)"
   ]
  },
  {
   "cell_type": "code",
   "execution_count": null,
   "metadata": {},
   "outputs": [],
   "source": [
    "#练习2-8\n",
    "ret = re.findall('cat|mouse',\"cat and mouse\")\n",
    "print(ret)"
   ]
  },
  {
   "cell_type": "code",
   "execution_count": null,
   "metadata": {},
   "outputs": [],
   "source": [
    "#练习2-9\n",
    "ret1 = re.findall('\\^c.t',\"^cat mouse\")\n",
    "ret2 = re.findall('\\[...\\]',\"cat [and] mouse\")\n",
    "print(ret1,ret2)"
   ]
  },
  {
   "cell_type": "code",
   "execution_count": null,
   "metadata": {},
   "outputs": [],
   "source": [
    "#练习2-10\n",
    "import re\n",
    "s = '<li><a href=\"http://news.sina.com.cn/o/2018-11-06/a75.shtml\"\\\n",
    "target=\"_blank\">进博会</a><li><li><a href=\"http://news.sina.com.cn/o/2018-11-06/a76.shtml\"\\\n",
    "target=\"_blank\">大数据</a><li><li><a href=\"http://news.sina.com.cn/o/2018-11-06/a75.shtml\"\\\n",
    "target=\"_blank\">进博会</a></li>'\n",
    "ret = re.findall(\"http://[a-zA-Z0-9/\\.\\-]*\",s)\n",
    "print(ret)"
   ]
  },
  {
   "cell_type": "code",
   "execution_count": null,
   "metadata": {},
   "outputs": [],
   "source": [
    "#练习4-1（共 代码）\n",
    "import requests\n",
    "url = \"https://www.sogou.com/sie?query=东北财经大学\"\n",
    "resp = requests.get(url)\n",
    "print(resp)\n",
    "print(resp.text)\n",
    "resp.close()"
   ]
  },
  {
   "cell_type": "code",
   "execution_count": 4,
   "metadata": {},
   "outputs": [
    {
     "name": "stdout",
     "output_type": "stream",
     "text": [
      "请输入需要查询的信息清明\n",
      "<Response [200]>\n",
      "<!DOCTYPE HTML>\n",
      "<html>\n",
      "<head>\n",
      "    <meta charset=\"utf-8\">\n",
      "    <link rel=\"shortcut icon\" href=\"//www.sogou.com/images/logo/new/favicon.ico?v=4\" type=\"image/x-icon\">\n",
      "    <title>搜狗搜索</title>\n",
      "    <script>\n",
      "        (function () {\n",
      "            if (!window.Promise) {\n",
      "                document.writeln('<script src=\"https://cdnjs.cloudflare.com/ajax/libs/es6-promise/4.1.1/es6-promise.min.js\"><' + '/' + 'script>');\n",
      "            }\n",
      "        })();\n",
      "    </script>\n",
      "    <link rel=\"stylesheet\" href=\"static/css/anti.min.css?v=1\"/>\n",
      "    <link rel=\"stylesheet\" type=\"text/css\" href=\"newstatic/css/verify.css\">\n",
      "    <script src=\"//dlweb.sogoucdn.com/common/lib/jquery/jquery-1.11.0.min.js\"></script>\n",
      "    <script src=\"static/js/antispider.min.js?v=3\"></script>\n",
      "    <script>\n",
      "        var domain = getDomain();\n",
      "        window.imgCode = -1;\n",
      "\n",
      "        (function() {\n",
      "            function checkSNUID() {\n",
      "                var cookieArr = document.cookie.split('; '),\n",
      "                    count = 0;\n",
      "\n",
      "                for(var i = 0, len = cookieArr.length; i < len; i++) {\n",
      "                    if (cookieArr[i].indexOf('SNUID=') > -1) {\n",
      "                        count++;\n",
      "                    }\n",
      "                }\n",
      "\n",
      "                return count > 1;\n",
      "            }\n",
      "\n",
      "            if(checkSNUID()) {\n",
      "                var date = new Date(), expires;\n",
      "                date.setTime(date.getTime() -100000);\n",
      "                expires = date.toGMTString();\n",
      "                document.cookie = 'SNUID=1;path=/;expires=' + expires;\n",
      "                document.cookie = 'SNUID=1;path=/;expires=' + expires + ';domain=.www.sogo.com';\n",
      "                document.cookie = 'SNUID=1;path=/;expires=' + expires + ';domain=.weixin.sogo.com';\n",
      "                document.cookie = 'SNUID=1;path=/;expires=' + expires + ';domain=.sogo.com';\n",
      "                document.cookie = 'SNUID=1;path=/;expires=' + expires + ';domain=.www.sogou.com';\n",
      "                document.cookie = 'SNUID=1;path=/;expires=' + expires + ';domain=.weixin.sogou.com';\n",
      "                document.cookie = 'SNUID=1;path=/;expires=' + expires + ';domain=.sogou.com';\n",
      "                document.cookie = 'SNUID=1;path=/;expires=' + expires + ';domain=.snapshot.sogoucdn.com';\n",
      "                sendLog('delSNUID');\n",
      "            }\n",
      "\n",
      "            if(getCookie('seccodeRight') === 'success') {\n",
      "                sendLog('verifyLoop');\n",
      "\n",
      "                setCookie('seccodeRight', 1, getUTCString(-1), location.hostname, '/');\n",
      "            }\n",
      "\n",
      "            if(getCookie('refresh')) {\n",
      "                sendLog('refresh');\n",
      "            }\n",
      "        })();\n",
      "\n",
      "        function setImgCode(code) {\n",
      "            try {\n",
      "                var t = new Date().getTime() - imgRequestTime.getTime();\n",
      "                sendLog('imgCost',\"cost=\"+t);\n",
      "            } catch (e) {\n",
      "            }\n",
      "            window.imgCode = code;\n",
      "        }\n",
      "        sendLog('index');\n",
      "\n",
      "        function changeImg2() {\n",
      "        \tif(window.event) {\n",
      "        \t\twindow.event.returnValue=false\n",
      "        \t}\n",
      "        }\n",
      "        var suuid = \"7035f9de-14a6-4a31-a706-34d8453dd5d1\";var auuid = \"0762b69a-0785-4e1b-8e69-f89a9051bde0\";    </script>\n",
      "</head>\n",
      "<body>\n",
      "<div class=\"header\">\n",
      "    <div class=\"logo\">\n",
      "        <a href=\"/\">\n",
      "            <img width=\"180\" height=\"60\" src=\"static/images/logo_180x60.png\" srcset=\"static/images/logo_180x60@2x.png 2x\">\n",
      "        </a>\n",
      "    </div>\n",
      "    <div class=\"other\"><span class=\"s1\"></span><span class=\"s2\"><a href=\"/\">返回首页&gt;&gt;</a></span></div>\n",
      "</div>\n",
      "<div class=\"content-box\">\n",
      "    <p class=\"ip-time-p\">IP：124.93.235.233<br>访问时间：2025.03.26 19:07:57<br>SourceVerifyCode：34d8453dd5d1<br>From：www.sogou.com</p>\n",
      "    <p class=\"p2\">此验证码用于确认这些请求是您的正常行为而不是自动程序发出的，需要您协助验证。</p>\n",
      "    <p class=\"p3\"><label for=\"seccodeInput\">验证码：</label></p>\n",
      "    <form name=\"authform\" method=\"POST\" id=\"seccodeForm\" action=\"/\">\n",
      "        <p class=\"p4\">\n",
      "            <input type=\"hidden\" name=\"tc\" id=\"tc\" value=\"\">\n",
      "            <input type=\"hidden\" name=\"r\" id=\"from\" value=\"%2Fsie%3Fquery%3D%E6%B8%85%E6%98%8E\" >\n",
      "            <input type=\"hidden\" name=\"p\" id=\"product\" value=\"web_sh2\" >\n",
      "            <input type=\"hidden\" name=\"vc\" id=\"vc\" value=\"\">\n",
      "            <input type=\"hidden\" name=\"m\" value=\"f9ab5bf7a9587003b95025fada8f5ce5\" >            <span class=\"s2\" id=\"error-tips\" style=\"display: none;\">\n",
      "        </p>\n",
      "        <div id=\"seccodeInput\" style=\"color: #666;padding: 0 0 0 191px;font-size: 13px;\"></div>\n",
      "        <p class=\"p5\">\n",
      "            <a href=\"javascript:void(0);\" id=\"submit\">提交</a>\n",
      "            <span>提交后没解决问题？欢迎<a href=\"https://fankui.sogou.com/index.php/web/web/index?type=10&anti_time=1742987277&domain=www.sogou.com\" target=\"_blank\">反馈</a>。</span>\n",
      "        </p>\n",
      "    </form>\n",
      "</div>\n",
      "<div id=\"ft\"><a href=\"http://fuwu.sogou.com/\" target=\"_blank\">企业推广</a><a href=\"http://corp.sogou.com/\" target=\"_blank\">关于搜狗</a><a href=\"/docs/terms.htm?v=1\" target=\"_blank\">免责声明</a><a href=\"https://fankui.sogou.com/index.php/web/web/index?type=10&anti_time=1742987277&domain=www.sogou.com\" target=\"_blank\">意见反馈</a><br>&nbsp;&copy;&nbsp;2025<span id=\"footer-year\"></span>&nbsp;Sogou Inc.&nbsp;-&nbsp;<a href=\"http://www.miibeian.gov.cn\" target=\"_blank\" class=\"g\">京ICP证050897号</a>&nbsp;-&nbsp;京公网安备1100<span class=\"ba\">00000025号</span></div>\n",
      "<script src=\"newstatic/js/main.min.js?v=0.0.1\"></script>\n",
      "<script src=\"newstatic/js/index.min.js?v=0.1.7\"></script>\n",
      "</body>\n",
      "</html>\n",
      "<!--zly-->\n",
      "\n"
     ]
    }
   ],
   "source": [
    "#练习4-2\n",
    "import requests\n",
    "query = input(\"请输入需要查询的信息\")\n",
    "url = f\"https://www.sogou.com/sie?query={query}\"\n",
    "headers={\n",
    "    \"User=Agent\":\"Mozilla/5.0 (Windows NT 10.0; Win64; x64) AppleWebKit/537.36 (KHTML, like Gecko) Chrome/134.0.0.0 Safari/537.36\"\n",
    "}\n",
    "resp = requests.get(url,headers=headers)\n",
    "print(resp)\n",
    "print(resp.text)\n",
    "resp.close()"
   ]
  },
  {
   "cell_type": "code",
   "execution_count": null,
   "metadata": {},
   "outputs": [],
   "source": []
  }
 ],
 "metadata": {
  "kernelspec": {
   "display_name": "Python 3",
   "language": "python",
   "name": "python3"
  }
 },
 "nbformat": 4,
 "nbformat_minor": 5
}
